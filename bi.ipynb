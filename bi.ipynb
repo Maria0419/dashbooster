{
 "cells": [
  {
   "cell_type": "code",
   "execution_count": 9,
   "id": "4562bf63",
   "metadata": {},
   "outputs": [],
   "source": [
    "workspace_id = \"b353418e-13a0-4d6a-bc9d-7116bbe06c7e\"          # Substitua pelo seu workspaceId\n",
    "access_token = \"eyJ0eXAiOiJKV1QiLCJhbGciOiJSUzI1NiIsIng1dCI6IkpZaEFjVFBNWl9MWDZEQmxPV1E3SG4wTmVYRSIsImtpZCI6IkpZaEFjVFBNWl9MWDZEQmxPV1E3SG4wTmVYRSJ9.eyJhdWQiOiJodHRwczovL2FuYWx5c2lzLndpbmRvd3MubmV0L3Bvd2VyYmkvYXBpIiwiaXNzIjoiaHR0cHM6Ly9zdHMud2luZG93cy5uZXQvOTNiYjBjMGQtYzkxNC00ZGJjLWEyYmQtMzFiZThjZDA2NGM5LyIsImlhdCI6MTc1NjgyNzM5MCwibmJmIjoxNzU2ODI3MzkwLCJleHAiOjE3NTY4MzEyOTAsImFpbyI6ImsyUmdZSkRiNlpCV3VGZDFaZTI1SDFOeXBDYXhBZ0E9IiwiYXBwaWQiOiIwNTRkODNjMC1lMmFlLTRkM2ItOTNmNC1kYTBiNDc1YmJhYjgiLCJhcHBpZGFjciI6IjEiLCJpZHAiOiJodHRwczovL3N0cy53aW5kb3dzLm5ldC85M2JiMGMwZC1jOTE0LTRkYmMtYTJiZC0zMWJlOGNkMDY0YzkvIiwiaWR0eXAiOiJhcHAiLCJvaWQiOiJlMjUyN2I3Ni00MDkyLTRlNjUtYTg5OC0zYmU5Yjc2MDk1MjMiLCJyaCI6IjEuQVZvQURReTdreFRKdkUyaXZURy1qTkJreVFrQUFBQUFBQUFBd0FBQUFBQUFBQUJhQUFCYUFBLiIsInN1YiI6ImUyNTI3Yjc2LTQwOTItNGU2NS1hODk4LTNiZTliNzYwOTUyMyIsInRpZCI6IjkzYmIwYzBkLWM5MTQtNGRiYy1hMmJkLTMxYmU4Y2QwNjRjOSIsInV0aSI6InFzS1Q4LWU3S1U2Z3MwbzlhMDhFQUEiLCJ2ZXIiOiIxLjAiLCJ4bXNfZnRkIjoiZHpQbjY2MURiTFFDV0FqYjdkeFJCUHJsN3hEM0JaQWd0VnRJLWhoVUo2d0JkWE56YjNWMGFDMWtjMjF6IiwieG1zX2lkcmVsIjoiNyAxMiIsInhtc19yZCI6IjAuNDJMbFlCSmlqQklTNFdBWEV2Z3pMLUhNVDlzSlBrdnVfbG5HNzU3SEFSVGxGQktvWFJsYUxPako1REpCY0tOWXRyWFBJYUFvaDVBQUp3TUVISURTQUEifQ.UEoOk0NKh28NkIbFRX1lKUE7mdeBJdVCdMRUBvLHa20CVPQrsRZvdNGiz-FG2-CIGYdAIJRvR4MScUcWFH3TmyUP5umlNpqf7BZSvCY_5gedo7hQj_yCdK-rp6Dr146hFBWtGMtU7044f2lYlrZqUCaNQtxzA351BpkUIoqGAPZlqPvzTscu1sPm4lgcMQ-8ftKCSbLfqGDfDQkispc69d4FhFrqTRiLJJWt-OYDeXaN4FzEdVVwU8AQz5RSvaHHc_z-BulF4-hal6fz0kXxV3g2cn8S8JFruJHLUaZwfR8IFCybUitTbdjTxSbGHPJFgwg66v7-lVsaa5dy6yPIxA\"          # Substitua pelo token válido\n",
    "pbix_file_path = r\"C:\\Users\\maria\\Downloads\\TesteDashbooster.pbix\"  # Caminho do PBIX\n",
    "dataset_name = \"Dashbooster_API\"           # Nome que você quer dar ao dataset\n"
   ]
  },
  {
   "cell_type": "code",
   "execution_count": null,
   "id": "8c35c3a7",
   "metadata": {},
   "outputs": [
    {
     "name": "stdout",
     "output_type": "stream",
     "text": [
      "Arquivo PBIX encontrado (4.96 MB).\n",
      "Iniciando upload do PBIX...\n",
      "Upload bem-sucedido! Import ID: 7e2bfd8e-1819-46c3-9fb3-76814d7aa2ae\n",
      "Dataset não encontrado após o upload.\n"
     ]
    }
   ],
   "source": [
    "import os\n",
    "import requests\n",
    "import sys\n",
    "\n",
    "\n",
    "# -----------------------------\n",
    "# 1️⃣ Verifica o arquivo PBIX\n",
    "# -----------------------------\n",
    "if not os.path.exists(pbix_file_path):\n",
    "    print(f\"Erro: arquivo PBIX não encontrado em {pbix_file_path}\")\n",
    "    sys.exit(1)\n",
    "\n",
    "file_size = os.path.getsize(pbix_file_path)\n",
    "if file_size > 1024**3:  # 1 GB\n",
    "    print(\"Erro: PBIX maior que 1 GB, não é suportado via API REST\")\n",
    "    sys.exit(1)\n",
    "\n",
    "print(f\"Arquivo PBIX encontrado ({file_size / 1024**2:.2f} MB).\")\n",
    "\n",
    "# -----------------------------\n",
    "# 2️⃣ Upload do PBIX\n",
    "# -----------------------------\n",
    "url_import = (\n",
    "    f\"https://api.powerbi.com/v1.0/myorg/groups/{workspace_id}/imports\"\n",
    "    f\"?datasetDisplayName={dataset_name}\"\n",
    ")\n",
    "\n",
    "headers = {\"Authorization\": f\"Bearer {access_token}\"}\n",
    "\n",
    "\n",
    "with open(pbix_file_path, \"rb\") as f:\n",
    "    files = {\"file\": f}\n",
    "    print(\"Iniciando upload do PBIX...\")\n",
    "    response = requests.post(url_import, headers=headers, files=files)\n",
    "\n",
    "if response.status_code not in [200, 202]:\n",
    "    print(\"Erro no upload:\", response.status_code, response.text)\n",
    "    sys.exit(1)\n",
    "\n",
    "import_data = response.json()\n",
    "import_id = import_data.get(\"id\")\n",
    "print(\"Upload bem-sucedido! Import ID:\", import_id)\n",
    "\n",
    "# -----------------------------\n",
    "# 3️⃣ Obter datasetId publicado\n",
    "# -----------------------------\n",
    "url_datasets = f\"https://api.powerbi.com/v1.0/myorg/groups/{workspace_id}/datasets\"\n",
    "response = requests.get(url_datasets, headers=headers)\n",
    "\n",
    "if response.status_code != 200:\n",
    "    print(\"Erro ao listar datasets:\", response.status_code, response.text)\n",
    "    sys.exit(1)\n",
    "\n",
    "datasets = response.json().get(\"value\", [])\n",
    "dataset_id = None\n",
    "for ds in datasets:\n",
    "    if ds[\"name\"] == dataset_name:\n",
    "        dataset_id = ds[\"id\"]\n",
    "        break\n",
    "\n",
    "if dataset_id:\n",
    "    print(\"Dataset ID encontrado:\", dataset_id)\n",
    "else:\n",
    "    print(\"Dataset não encontrado após o upload.\")\n"
   ]
  },
  {
   "cell_type": "code",
   "execution_count": 8,
   "id": "62c5e124",
   "metadata": {},
   "outputs": [
    {
     "name": "stdout",
     "output_type": "stream",
     "text": [
      "Teste Dashbooster - 7868fb27-de86-4d0d-82f1-7aa571081455\n",
      "Meu Relatório de Teste Clonado via API - 34064a14-d16d-4fd2-981a-4c9589b9f9ba\n",
      "Meu Relatório de Teste Clonado via API - ba81cb49-d0e8-4d35-9c5c-e5ca0cb46ede\n",
      "Meu Relatório de Teste Clonado via API - f50039f5-706f-4d50-8077-a7db22cd5173\n",
      "MyReport - 557053af-90bb-4821-bede-8ed4c434adef\n"
     ]
    }
   ],
   "source": [
    "import requests\n",
    "\n",
    "def listar_powerbi(workspace_id, access_token):\n",
    "    \"\"\"\n",
    "    Lista os relatórios (Power BI) de um workspace.\n",
    "    \n",
    "    :param workspace_id: ID do workspace no Power BI\n",
    "    :param access_token: Token de acesso OAuth2\n",
    "    :return: Lista de dicionários com 'id' e 'name' dos relatórios\n",
    "    \"\"\"\n",
    "    url_reports = f\"https://api.powerbi.com/v1.0/myorg/groups/{workspace_id}/reports\"\n",
    "    headers = {\"Authorization\": f\"Bearer {access_token}\"}\n",
    "\n",
    "    response = requests.get(url_reports, headers=headers)\n",
    "\n",
    "    if response.status_code != 200:\n",
    "        print(\"Erro ao listar relatórios:\", response.status_code, response.text)\n",
    "        return []\n",
    "\n",
    "    reports = response.json().get(\"value\", [])\n",
    "    lista_reports = [{\"id\": r[\"id\"], \"name\": r[\"name\"]} for r in reports]\n",
    "\n",
    "    return lista_reports\n",
    "\n",
    "relatorios = listar_powerbi(workspace_id, access_token)\n",
    "for r in relatorios:\n",
    "    print(f\"{r['name']} - {r['id']}\")\n"
   ]
  }
 ],
 "metadata": {
  "kernelspec": {
   "display_name": "Python 3",
   "language": "python",
   "name": "python3"
  },
  "language_info": {
   "codemirror_mode": {
    "name": "ipython",
    "version": 3
   },
   "file_extension": ".py",
   "mimetype": "text/x-python",
   "name": "python",
   "nbconvert_exporter": "python",
   "pygments_lexer": "ipython3",
   "version": "3.11.5"
  }
 },
 "nbformat": 4,
 "nbformat_minor": 5
}
